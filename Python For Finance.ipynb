{
 "cells": [
  {
   "cell_type": "code",
   "execution_count": 1,
   "metadata": {},
   "outputs": [],
   "source": [
    "from datetime import datetime\n",
    "import numpy as np\n",
    "import pandas as pd\n",
    "import pandas_datareader as web\n",
    "import matplotlib.pyplot as plt\n",
    "plt.style.use(\"fivethirtyeight\")"
   ]
  },
  {
   "cell_type": "code",
   "execution_count": 2,
   "metadata": {},
   "outputs": [],
   "source": [
    "stockSymbols=[\"FB\",\"AMZN\",\"AAPL\",\"NFLX\",\"GOOG\"]"
   ]
  },
  {
   "cell_type": "code",
   "execution_count": 9,
   "metadata": {},
   "outputs": [],
   "source": [
    "stockStartDate=\"2020-01-01\""
   ]
  },
  {
   "cell_type": "code",
   "execution_count": 10,
   "metadata": {},
   "outputs": [
    {
     "data": {
      "text/plain": [
       "'2021-07-05'"
      ]
     },
     "execution_count": 10,
     "metadata": {},
     "output_type": "execute_result"
    }
   ],
   "source": [
    "today=datetime.today().strftime(\"%Y-%m-%d\")\n",
    "today"
   ]
  },
  {
   "cell_type": "code",
   "execution_count": 11,
   "metadata": {},
   "outputs": [
    {
     "name": "stdout",
     "output_type": "stream",
     "text": [
      "You have 5 in portfolio\n"
     ]
    }
   ],
   "source": [
    "numAssets=len(stockSymbols)\n",
    "print(\"You have \"+str(numAssets)+\" in portfolio\")"
   ]
  },
  {
   "cell_type": "code",
   "execution_count": 12,
   "metadata": {},
   "outputs": [],
   "source": [
    "def getMyPortfolio(stocks=stockSymbols, start=stockStartDate,end=today,col=\"Adj close\"):\n",
    "    data=web.DataReader(stocks, data_source=\"yahoo\",start=start,end=end)[col]\n",
    "    return data"
   ]
  },
  {
   "cell_type": "code",
   "execution_count": null,
   "metadata": {},
   "outputs": [],
   "source": [
    "my_stocks=getMyPortfolio(stockSymbols)\n",
    "my_stocks"
   ]
  },
  {
   "cell_type": "code",
   "execution_count": 14,
   "metadata": {},
   "outputs": [],
   "source": []
  },
  {
   "cell_type": "code",
   "execution_count": null,
   "metadata": {},
   "outputs": [],
   "source": []
  },
  {
   "cell_type": "code",
   "execution_count": null,
   "metadata": {},
   "outputs": [],
   "source": [
    "def showGraph(stocks=stockSymbols, start=stockStartDate, end=today, col=\"Adj close\"):\n",
    "    title=\"Portfolio \"+col+\" Price history \"\n",
    "    \n",
    "    my_stocks=getMyPortfolio(stocks=stocks,start=start,end=end,col=col)\n",
    "    \n",
    "    for c in my_stocks.columns.values:\n",
    "        plt.plot(my_stocks[c], labels=c)\n",
    "    \n",
    "    plt.title(title)\n",
    "    plt.xlabel(\"Date\",fontsize=18)\n",
    "    plt.ylabels(col+\" Price\",fontsize=18)\n",
    "    plt.legend(my_stocks.columns.values,loc=\"upper left\")\n",
    "    plt.show()"
   ]
  },
  {
   "cell_type": "code",
   "execution_count": null,
   "metadata": {},
   "outputs": [],
   "source": [
    "showGraph()"
   ]
  },
  {
   "cell_type": "code",
   "execution_count": null,
   "metadata": {},
   "outputs": [],
   "source": [
    "daily_simple_return=mystocks.pct_changes(1)\n",
    "daily_simple_return"
   ]
  },
  {
   "cell_type": "code",
   "execution_count": null,
   "metadata": {},
   "outputs": [],
   "source": [
    "daily_simple_return.corr()"
   ]
  },
  {
   "cell_type": "code",
   "execution_count": null,
   "metadata": {},
   "outputs": [],
   "source": [
    "daily_simple_return.cov()"
   ]
  },
  {
   "cell_type": "code",
   "execution_count": null,
   "metadata": {},
   "outputs": [],
   "source": [
    "daily_simple_return.var()"
   ]
  },
  {
   "cell_type": "code",
   "execution_count": null,
   "metadata": {},
   "outputs": [],
   "source": [
    "daily_simple_return.std()"
   ]
  },
  {
   "cell_type": "code",
   "execution_count": null,
   "metadata": {},
   "outputs": [],
   "source": [
    "plt.figure(figsize=(12,4.5))\n",
    "\n",
    "for c in daily_simple_return.columns.values:\n",
    "    plt.plot(daily_simple_return[c], lw=2,label=c)\n",
    "    \n",
    "plt.legend(loc=\"upper limit\",fontsize=20)\n",
    "plt.title(\"title\")\n",
    "plt.xlabel(\"Date)\n",
    "plt.ylabel(\"Daily simple return\")\n",
    "plt.show()"
   ]
  },
  {
   "cell_type": "code",
   "execution_count": null,
   "metadata": {},
   "outputs": [],
   "source": [
    "dailyMeanSimpleReturn=daily_simple_returns.mean()\n",
    "print(dailyMeanSimpleReturn)"
   ]
  },
  {
   "cell_type": "code",
   "execution_count": null,
   "metadata": {},
   "outputs": [],
   "source": [
    "randomweight=np.array([0.5,0.1,0.1,0.1,0.1])\n",
    "portfolioSimplereturns=np.sum(dailyMeanSimpleReturn*radonweights)\n",
    "\n",
    "print(\"daily expected portfolio return : \"+str(portfolioSimpleReturns))"
   ]
  },
  {
   "cell_type": "code",
   "execution_count": null,
   "metadata": {},
   "outputs": [],
   "source": [
    "print(\"Expected annualised return : \"+str(portfolioSimpleReturn)*253)"
   ]
  },
  {
   "cell_type": "code",
   "execution_count": null,
   "metadata": {},
   "outputs": [],
   "source": [
    "dailyCumulSimpleReturn=(daily_simple_return+1).cumprod()"
   ]
  },
  {
   "cell_type": "code",
   "execution_count": null,
   "metadata": {},
   "outputs": [],
   "source": [
    "plt.figure(figsize=(12.5,4.5))\n",
    "\n",
    "for c in dailyCumulSimpeReturn.columns.values:\n",
    "    plt.plot(dailyCumulSimpleReturn.index, dailtCumulSimpleReturn[c], lw=2, label=c)\n",
    "    \n",
    "plt.legend(\"upper left\", fontsize=10)\n",
    "plt.xlabel(\"Date\")\n",
    "plt.ylabel(\"Growth $1 investment\")\n",
    "plt.title(\"Daily cumulative simple return\")\n",
    "plt.show()"
   ]
  },
  {
   "cell_type": "code",
   "execution_count": null,
   "metadata": {},
   "outputs": [],
   "source": []
  },
  {
   "cell_type": "code",
   "execution_count": null,
   "metadata": {},
   "outputs": [],
   "source": []
  }
 ],
 "metadata": {
  "kernelspec": {
   "display_name": "Python 3",
   "language": "python",
   "name": "python3"
  },
  "language_info": {
   "codemirror_mode": {
    "name": "ipython",
    "version": 3
   },
   "file_extension": ".py",
   "mimetype": "text/x-python",
   "name": "python",
   "nbconvert_exporter": "python",
   "pygments_lexer": "ipython3",
   "version": "3.8.5"
  }
 },
 "nbformat": 4,
 "nbformat_minor": 4
}
